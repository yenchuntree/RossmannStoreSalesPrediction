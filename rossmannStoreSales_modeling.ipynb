{
 "cells": [
  {
   "cell_type": "markdown",
   "metadata": {},
   "source": [
    "Import the data set of the store information."
   ]
  },
  {
   "cell_type": "code",
   "execution_count": 1,
   "metadata": {
    "collapsed": false
   },
   "outputs": [
    {
     "name": "stderr",
     "output_type": "stream",
     "text": [
      "/Users/yen/anaconda/lib/python2.7/site-packages/IPython/core/interactiveshell.py:2717: DtypeWarning: Columns (7) have mixed types. Specify dtype option on import or set low_memory=False.\n",
      "  interactivity=interactivity, compiler=compiler, result=result)\n"
     ]
    }
   ],
   "source": [
    "import pandas as pd\n",
    "import numpy as np\n",
    "import matplotlib.pyplot as plt\n",
    "import seaborn as sns\n",
    "import pylab\n",
    "import timeit\n",
    "import re\n",
    "from IPython.display import display\n",
    "from sklearn import preprocessing\n",
    "from sklearn.preprocessing import Imputer\n",
    "from sklearn.preprocessing import LabelEncoder\n",
    "from sklearn.preprocessing import OneHotEncoder\n",
    "\n",
    "%matplotlib inline\n",
    "\n",
    "# import file 'store.csv'\n",
    "store_data = pd.read_csv('store.csv')\n",
    "train_data = pd.read_csv('train.csv')"
   ]
  },
  {
   "cell_type": "markdown",
   "metadata": {},
   "source": [
    "Convert date time to features:"
   ]
  },
  {
   "cell_type": "code",
   "execution_count": 3,
   "metadata": {
    "collapsed": false
   },
   "outputs": [],
   "source": [
    "# cahnge the data format of the date\n",
    "data_transactiondate = train_data['Date'].tolist()\n",
    "year = []\n",
    "month = []\n",
    "date = []\n",
    "\n",
    "for i in data_transactiondate:\n",
    "    year.append(int(i[0:4]))\n",
    "    month.append(int(i[5:7]))\n",
    "    date.append(int(i[8:10]))\n",
    "        \n",
    "date_data = pd.DataFrame({'year':year, 'month':month, 'date':date}, columns = ['year', 'month', 'date'])\n",
    "train_data.drop('Date', axis=1, inplace=True)\n",
    "date_concat = pd.concat([train_data, date_data], axis=1)\n",
    "train_data = date_concat"
   ]
  },
  {
   "cell_type": "markdown",
   "metadata": {},
   "source": [
    "Merge store_data and train_data."
   ]
  },
  {
   "cell_type": "code",
   "execution_count": 4,
   "metadata": {
    "collapsed": true
   },
   "outputs": [],
   "source": [
    "merge_data = pd.merge(store_data, train_data, on='Store', how='outer')"
   ]
  },
  {
   "cell_type": "code",
   "execution_count": 5,
   "metadata": {
    "collapsed": true
   },
   "outputs": [],
   "source": [
    "merge_data_1 = pd.merge(store_data, train_data, on='Store', how='outer')"
   ]
  },
  {
   "cell_type": "markdown",
   "metadata": {},
   "source": [
    "Merge StoreType and Assortment to one feature."
   ]
  },
  {
   "cell_type": "code",
   "execution_count": 6,
   "metadata": {
    "collapsed": true
   },
   "outputs": [],
   "source": [
    "storemode_list = []\n",
    "for i in range(len(store_data.index)):\n",
    "    j = store_data['StoreType'].loc[i]\n",
    "    k = store_data['Assortment'].loc[i]\n",
    "    storemode_list.append(j + k)\n",
    "  \n",
    "storemode = pd.DataFrame(storemode_list, columns=['storemode'])"
   ]
  },
  {
   "cell_type": "code",
   "execution_count": 7,
   "metadata": {
    "collapsed": true
   },
   "outputs": [],
   "source": [
    "storemode['Store'] = storemode.index \n",
    "merge_data = pd.merge(merge_data, storemode, on='Store', how='outer')"
   ]
  },
  {
   "cell_type": "markdown",
   "metadata": {},
   "source": [
    "Convert date time to features:"
   ]
  },
  {
   "cell_type": "code",
   "execution_count": 8,
   "metadata": {
    "collapsed": false
   },
   "outputs": [
    {
     "name": "stdout",
     "output_type": "stream",
     "text": [
      "['Store', 'StoreType', 'Assortment', 'CompetitionDistance', 'CompetitionOpenSinceMonth', 'CompetitionOpenSinceYear', 'Promo2', 'Promo2SinceWeek', 'Promo2SinceYear', 'PromoInterval', 'DayOfWeek', 'Sales', 'Customers', 'Open', 'Promo', 'StateHoliday', 'SchoolHoliday', 'year', 'month', 'date', 'storemode']\n"
     ]
    }
   ],
   "source": [
    "print list(merge_data)"
   ]
  },
  {
   "cell_type": "code",
   "execution_count": 9,
   "metadata": {
    "collapsed": false
   },
   "outputs": [],
   "source": [
    "merge_data = merge_data[(merge_data['Sales'].notnull())]"
   ]
  },
  {
   "cell_type": "code",
   "execution_count": 10,
   "metadata": {
    "collapsed": false
   },
   "outputs": [],
   "source": [
    "# remove all rows that were closed \n",
    "merge_data = merge_data[merge_data['Open'] != 0]"
   ]
  },
  {
   "cell_type": "code",
   "execution_count": 11,
   "metadata": {
    "collapsed": false
   },
   "outputs": [],
   "source": [
    "sales = merge_data['Sales']"
   ]
  },
  {
   "cell_type": "code",
   "execution_count": 12,
   "metadata": {
    "collapsed": false
   },
   "outputs": [],
   "source": [
    "# drop unnecessary columns\n",
    "merge_data.drop(['Sales', 'Customers']\n",
    "                 , axis=1, inplace=True)"
   ]
  },
  {
   "cell_type": "code",
   "execution_count": 13,
   "metadata": {
    "collapsed": false
   },
   "outputs": [],
   "source": [
    "# use median to replace NaN for numerical column\n",
    "numeric_column_heads = ['Promo2SinceYear', 'CompetitionDistance', 'CompetitionOpenSinceYear',\n",
    "                        'year', 'month', 'date', 'DayOfWeek', 'CompetitionOpenSinceMonth', 'Promo2SinceWeek']\n",
    "numeric_columns = merge_data[numeric_column_heads]\n",
    "categorical_columns = merge_data.drop(numeric_column_heads, axis=1)\n",
    "\n",
    "imputer = Imputer(strategy='median')\n",
    "imputer.fit(numeric_columns)\n",
    "numeric_columns_X = imputer.transform(numeric_columns)\n",
    "numeric_columns_tr = [pd.DataFrame(numeric_columns_X, columns=numeric_column_heads)]\n",
    "\n",
    "categorical_columns.fillna('nan', inplace=True)\n",
    "categorical_columns_tr = []\n",
    "label_encoder = LabelEncoder()\n",
    "one_hot_encoder = OneHotEncoder()\n",
    "for h in categorical_columns:\n",
    "    col_encoded = label_encoder.fit_transform(categorical_columns[h])\n",
    "    col_1hot = one_hot_encoder.fit_transform(col_encoded.reshape(-1, 1))\n",
    "    col = pd.DataFrame(col_1hot.toarray())\n",
    "    col = col.add_prefix(h)\n",
    "    categorical_columns_tr.append(col)\n",
    "    \n",
    "features = pd.concat(numeric_columns_tr + categorical_columns_tr, axis=1)"
   ]
  },
  {
   "cell_type": "code",
   "execution_count": 14,
   "metadata": {
    "collapsed": false
   },
   "outputs": [],
   "source": [
    "features['year_1'] = (2015 - features['year'])\n",
    "features.drop(['year'], axis=1, inplace=True)"
   ]
  },
  {
   "cell_type": "code",
   "execution_count": 15,
   "metadata": {
    "collapsed": false
   },
   "outputs": [],
   "source": [
    "# normalize\n",
    "x = features.values \n",
    "min_max_scaler = preprocessing.MinMaxScaler()\n",
    "x_scaled = min_max_scaler.fit_transform(x)\n",
    "features = pd.DataFrame(x_scaled, columns=features.columns)"
   ]
  },
  {
   "cell_type": "code",
   "execution_count": 16,
   "metadata": {
    "collapsed": false
   },
   "outputs": [],
   "source": [
    "import sklearn\n",
    "from sklearn.model_selection import train_test_split\n",
    "from sklearn.model_selection import GridSearchCV\n",
    "from sklearn.model_selection import ShuffleSplit\n",
    "from sklearn import ensemble\n",
    "from sklearn.metrics import mean_absolute_error, make_scorer\n",
    "\n",
    "x_train, x_test, y_train, y_test = train_test_split(features, sales, test_size = 0.2, random_state = 26)"
   ]
  },
  {
   "cell_type": "code",
   "execution_count": 19,
   "metadata": {
    "collapsed": true
   },
   "outputs": [],
   "source": [
    "start = timeit.default_timer()"
   ]
  },
  {
   "cell_type": "code",
   "execution_count": 20,
   "metadata": {
    "collapsed": false
   },
   "outputs": [],
   "source": [
    "# classifier\n",
    "from sklearn.metrics import mean_squared_error, r2_score\n",
    "from math import sqrt\n",
    "\n",
    "clf_rft = ensemble.RandomForestRegressor(#n_estimators = 100,\n",
    "                                        random_state = 26)\n",
    "\n",
    "clf_rft.fit(x_train, y_train)\n",
    "y_pred = clf_rft.predict(x_test)"
   ]
  },
  {
   "cell_type": "code",
   "execution_count": 21,
   "metadata": {
    "collapsed": false
   },
   "outputs": [],
   "source": [
    "y_test_ = y_test.tolist()\n",
    "y_pred_ = y_pred.tolist()"
   ]
  },
  {
   "cell_type": "code",
   "execution_count": 22,
   "metadata": {
    "collapsed": false
   },
   "outputs": [
    {
     "name": "stdout",
     "output_type": "stream",
     "text": [
      "RMSPE Score: 0.142863250661\n",
      "R2 Score: 0.903997659468\n"
     ]
    }
   ],
   "source": [
    "x = []\n",
    "for i in range(len(y_test)):\n",
    "    y = y_test_[i]\n",
    "    yhat = y_pred_[i]\n",
    "    if y != 0 and yhat != 0:\n",
    "        x.append(((y - yhat) / y) ** 2)\n",
    "rmspe_error = sqrt(np.mean(x))\n",
    "print 'RMSPE Score: ' + str(rmspe_error)\n",
    "\n",
    "r2_scores = r2_score(y_test_, y_pred_)\n",
    "print 'R2 Score: ' + str(r2_scores)"
   ]
  },
  {
   "cell_type": "code",
   "execution_count": 23,
   "metadata": {
    "collapsed": false
   },
   "outputs": [
    {
     "name": "stdout",
     "output_type": "stream",
     "text": [
      "run time: 1047.03021002\n"
     ]
    }
   ],
   "source": [
    "stop = timeit.default_timer()\n",
    "print 'run time: ' + str(stop - start)"
   ]
  },
  {
   "cell_type": "code",
   "execution_count": 24,
   "metadata": {
    "collapsed": false
   },
   "outputs": [
    {
     "name": "stdout",
     "output_type": "stream",
     "text": [
      "                              value\n",
      "Promo1                     0.080962\n",
      "CompetitionDistance        0.077924\n",
      "DayOfWeek                  0.064870\n",
      "Promo0                     0.054349\n",
      "date                       0.052591\n",
      "month                      0.046695\n",
      "CompetitionOpenSinceYear   0.027260\n",
      "Store816                   0.021944\n",
      "Promo2SinceWeek            0.020402\n",
      "StoreType1                 0.019821\n",
      "CompetitionOpenSinceMonth  0.019723\n",
      "Store1113                  0.018070\n",
      "year_1                     0.015412\n",
      "Promo2SinceYear            0.015167\n",
      "Store261                   0.014286\n",
      "Store512                   0.012955\n",
      "Store250                   0.012486\n",
      "Store787                   0.011469\n",
      "Store841                   0.010355\n",
      "Assortment2                0.009626\n",
      "Store382                   0.008742\n",
      "Assortment0                0.008019\n",
      "Store697                   0.007639\n",
      "Store755                   0.006595\n",
      "Store379                   0.006480\n",
      "Store594                   0.006303\n",
      "StoreType0                 0.005874\n",
      "PromoInterval2             0.005684\n",
      "Store522                   0.005332\n",
      "Store561                   0.005219\n",
      "...                             ...\n",
      "Store1050                       NaN\n",
      "Store316                        NaN\n",
      "Store252                        NaN\n",
      "Store1094                       NaN\n",
      "Store554                        NaN\n",
      "Store640                        NaN\n",
      "Store292                        NaN\n",
      "Store618                        NaN\n",
      "Store134                        NaN\n",
      "Store85                         NaN\n",
      "Store459                        NaN\n",
      "Store710                        NaN\n",
      "Store279                        NaN\n",
      "Store64                         NaN\n",
      "Store445                        NaN\n",
      "Store203                        NaN\n",
      "Store275                        NaN\n",
      "Store610                        NaN\n",
      "Store832                        NaN\n",
      "Store993                        NaN\n",
      "Store807                        NaN\n",
      "Store804                        NaN\n",
      "Store195                        NaN\n",
      "Store333                        NaN\n",
      "Store747                        NaN\n",
      "Store715                        NaN\n",
      "Store546                        NaN\n",
      "Store1076                       NaN\n",
      "Store71                         NaN\n",
      "Store1061                       NaN\n",
      "\n",
      "[1156 rows x 1 columns]\n"
     ]
    },
    {
     "name": "stderr",
     "output_type": "stream",
     "text": [
      "/Users/yen/anaconda/lib/python2.7/site-packages/ipykernel/__main__.py:10: FutureWarning: sort(columns=....) is deprecated, use sort_values(by=.....)\n"
     ]
    }
   ],
   "source": [
    "importance = clf_rft.feature_importances_\n",
    "feature_importances = {}\n",
    "for imp, col in sorted(zip(importance, x_train.columns), reverse=True):\n",
    "    if imp != 0:        \n",
    "        feature_importances[col] = [imp]\n",
    "    \n",
    "importances_data = pd.DataFrame.from_dict(feature_importances)\n",
    "importances_data = importances_data.T\n",
    "importances_data.columns = ['value']\n",
    "importances_data.sort('value', ascending=False, inplace=True)\n",
    "\n",
    "importances_data_ra = importances_data[(importances_data >= 0.0002)]\n",
    "\n",
    "print importances_data_ra"
   ]
  },
  {
   "cell_type": "code",
   "execution_count": 25,
   "metadata": {
    "collapsed": false
   },
   "outputs": [],
   "source": [
    "l = []\n",
    "for i in range(1115):\n",
    "    i += 1\n",
    "    merge_data_2 = merge_data_1\n",
    "    merge_data_2 = merge_data_1[merge_data_2['Store'] == i]\n",
    "    a = merge_data_2['Sales'].mean()\n",
    "    l.append(a)\n",
    "\n",
    "n = []\n",
    "for i in range(1115):\n",
    "    i += 1\n",
    "    n.append(i)\n",
    "    \n",
    "mean_data = pd.DataFrame({'Store':n, 'MeanSales':l}, columns=['Store', 'MeanSales'])"
   ]
  },
  {
   "cell_type": "code",
   "execution_count": 26,
   "metadata": {
    "collapsed": false
   },
   "outputs": [
    {
     "data": {
      "text/html": [
       "<div>\n",
       "<table border=\"1\" class=\"dataframe\">\n",
       "  <thead>\n",
       "    <tr style=\"text-align: right;\">\n",
       "      <th></th>\n",
       "      <th>Store</th>\n",
       "      <th>StoreType</th>\n",
       "      <th>Assortment</th>\n",
       "      <th>CompetitionDistance</th>\n",
       "      <th>CompetitionOpenSinceMonth</th>\n",
       "      <th>CompetitionOpenSinceYear</th>\n",
       "      <th>Promo2</th>\n",
       "      <th>Promo2SinceWeek</th>\n",
       "      <th>Promo2SinceYear</th>\n",
       "      <th>PromoInterval</th>\n",
       "      <th>...</th>\n",
       "      <th>Sales</th>\n",
       "      <th>Customers</th>\n",
       "      <th>Open</th>\n",
       "      <th>Promo</th>\n",
       "      <th>StateHoliday</th>\n",
       "      <th>SchoolHoliday</th>\n",
       "      <th>year</th>\n",
       "      <th>month</th>\n",
       "      <th>date</th>\n",
       "      <th>MeanSales</th>\n",
       "    </tr>\n",
       "  </thead>\n",
       "  <tbody>\n",
       "    <tr>\n",
       "      <th>0</th>\n",
       "      <td>1</td>\n",
       "      <td>c</td>\n",
       "      <td>a</td>\n",
       "      <td>1270.0</td>\n",
       "      <td>9.0</td>\n",
       "      <td>2008.0</td>\n",
       "      <td>0</td>\n",
       "      <td>NaN</td>\n",
       "      <td>NaN</td>\n",
       "      <td>NaN</td>\n",
       "      <td>...</td>\n",
       "      <td>5263</td>\n",
       "      <td>555</td>\n",
       "      <td>1</td>\n",
       "      <td>1</td>\n",
       "      <td>0</td>\n",
       "      <td>1</td>\n",
       "      <td>2015</td>\n",
       "      <td>7</td>\n",
       "      <td>31</td>\n",
       "      <td>3945.704883</td>\n",
       "    </tr>\n",
       "    <tr>\n",
       "      <th>1</th>\n",
       "      <td>1</td>\n",
       "      <td>c</td>\n",
       "      <td>a</td>\n",
       "      <td>1270.0</td>\n",
       "      <td>9.0</td>\n",
       "      <td>2008.0</td>\n",
       "      <td>0</td>\n",
       "      <td>NaN</td>\n",
       "      <td>NaN</td>\n",
       "      <td>NaN</td>\n",
       "      <td>...</td>\n",
       "      <td>5020</td>\n",
       "      <td>546</td>\n",
       "      <td>1</td>\n",
       "      <td>1</td>\n",
       "      <td>0</td>\n",
       "      <td>1</td>\n",
       "      <td>2015</td>\n",
       "      <td>7</td>\n",
       "      <td>30</td>\n",
       "      <td>3945.704883</td>\n",
       "    </tr>\n",
       "    <tr>\n",
       "      <th>2</th>\n",
       "      <td>1</td>\n",
       "      <td>c</td>\n",
       "      <td>a</td>\n",
       "      <td>1270.0</td>\n",
       "      <td>9.0</td>\n",
       "      <td>2008.0</td>\n",
       "      <td>0</td>\n",
       "      <td>NaN</td>\n",
       "      <td>NaN</td>\n",
       "      <td>NaN</td>\n",
       "      <td>...</td>\n",
       "      <td>4782</td>\n",
       "      <td>523</td>\n",
       "      <td>1</td>\n",
       "      <td>1</td>\n",
       "      <td>0</td>\n",
       "      <td>1</td>\n",
       "      <td>2015</td>\n",
       "      <td>7</td>\n",
       "      <td>29</td>\n",
       "      <td>3945.704883</td>\n",
       "    </tr>\n",
       "  </tbody>\n",
       "</table>\n",
       "<p>3 rows × 21 columns</p>\n",
       "</div>"
      ],
      "text/plain": [
       "   Store StoreType Assortment  CompetitionDistance  CompetitionOpenSinceMonth  \\\n",
       "0      1         c          a               1270.0                        9.0   \n",
       "1      1         c          a               1270.0                        9.0   \n",
       "2      1         c          a               1270.0                        9.0   \n",
       "\n",
       "   CompetitionOpenSinceYear  Promo2  Promo2SinceWeek  Promo2SinceYear  \\\n",
       "0                    2008.0       0              NaN              NaN   \n",
       "1                    2008.0       0              NaN              NaN   \n",
       "2                    2008.0       0              NaN              NaN   \n",
       "\n",
       "  PromoInterval     ...       Sales  Customers  Open  Promo  StateHoliday  \\\n",
       "0           NaN     ...        5263        555     1      1             0   \n",
       "1           NaN     ...        5020        546     1      1             0   \n",
       "2           NaN     ...        4782        523     1      1             0   \n",
       "\n",
       "  SchoolHoliday  year  month  date    MeanSales  \n",
       "0             1  2015      7    31  3945.704883  \n",
       "1             1  2015      7    30  3945.704883  \n",
       "2             1  2015      7    29  3945.704883  \n",
       "\n",
       "[3 rows x 21 columns]"
      ]
     },
     "metadata": {},
     "output_type": "display_data"
    },
    {
     "name": "stdout",
     "output_type": "stream",
     "text": [
      "None\n"
     ]
    }
   ],
   "source": [
    "merge_data_3 = pd.merge(store_data, train_data, on='Store', how='outer')\n",
    "merge_data_4 = pd.merge(merge_data_3, mean_data, on='Store', how='outer')\n",
    "print display(merge_data_4.head(3))"
   ]
  },
  {
   "cell_type": "code",
   "execution_count": 27,
   "metadata": {
    "collapsed": false
   },
   "outputs": [],
   "source": [
    "x_test_index = x_test.index.values.tolist()\n",
    "\n",
    "mean_data_pred = []\n",
    "for i in x_test_index:\n",
    "    j = merge_data_4.iloc[0]['MeanSales']\n",
    "    mean_data_pred.append(j)"
   ]
  },
  {
   "cell_type": "code",
   "execution_count": 28,
   "metadata": {
    "collapsed": false
   },
   "outputs": [
    {
     "name": "stdout",
     "output_type": "stream",
     "text": [
      "RMSPE Score: 0.454630163643\n",
      "R2 Score: -0.944969787\n"
     ]
    }
   ],
   "source": [
    "x = []\n",
    "for i in range(len(y_test)):\n",
    "    y = y_test_[i]\n",
    "    yhat = mean_data_pred[i]\n",
    "    if y != 0 and yhat != 0:\n",
    "        x.append(((y - yhat) / y) ** 2)\n",
    "rmspe_error = sqrt(np.mean(x))\n",
    "print 'RMSPE Score: ' + str(rmspe_error)\n",
    "\n",
    "r2_scores = r2_score(y_test_, mean_data_pred)\n",
    "print 'R2 Score: ' + str(r2_scores)"
   ]
  },
  {
   "cell_type": "code",
   "execution_count": 29,
   "metadata": {
    "collapsed": false
   },
   "outputs": [
    {
     "data": {
      "text/plain": [
       "Text(0,0.5,u'RMSPE Score')"
      ]
     },
     "execution_count": 29,
     "metadata": {},
     "output_type": "execute_result"
    },
    {
     "data": {
      "image/png": "[encoded data removed]",
      "text/plain": [
       "<matplotlib.figure.Figure at 0x11852dcd0>"
      ]
     },
     "metadata": {},
     "output_type": "display_data"
    }
   ],
   "source": [
    "x = [1, 2, 27, 35, 40, 50, 60, 80, 90, 100, 120]\n",
    "y = [0.519101118894, 0.510105350151, 0.315338383689, 0.241596348998, 0.21165359609, 0.175109607934, 0.156937563399, 0.145316793498, 0.143742410698, 0.14327112879, 0.142898617358]\n",
    "\n",
    "plt.plot(x, y, linewidth=2.0)\n",
    "plt.xlabel('Max Depth')\n",
    "plt.ylabel('RMSPE Score')"
   ]
  },
  {
   "cell_type": "markdown",
   "metadata": {},
   "source": [
    "n=10;0.454630163643\n",
    "n=10;weekday;0.454630163643\n"
   ]
  }
 ],
 "metadata": {
  "kernelspec": {
   "display_name": "Python 2",
   "language": "python",
   "name": "python2"
  },
  "language_info": {
   "codemirror_mode": {
    "name": "ipython",
    "version": 2
   },
   "file_extension": ".py",
   "mimetype": "text/x-python",
   "name": "python",
   "nbconvert_exporter": "python",
   "pygments_lexer": "ipython2",
   "version": "2.7.13"
  }
 },
 "nbformat": 4,
 "nbformat_minor": 2
}
